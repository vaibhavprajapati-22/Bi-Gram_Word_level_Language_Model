{
  "cells": [
    {
      "cell_type": "code",
      "execution_count": 1,
      "id": "e0998320-dffb-4e9c-bf65-a85727dbcc7b",
      "metadata": {
        "id": "e0998320-dffb-4e9c-bf65-a85727dbcc7b"
      },
      "outputs": [],
      "source": [
        "# Importing necessary libraries\n",
        "import re\n",
        "from nltk.tokenize import word_tokenize\n",
        "import torch\n",
        "import torch.nn as nn\n",
        "import torch.nn.functional as F\n",
        "import random\n",
        "import matplotlib.pyplot as plt"
      ]
    },
    {
      "cell_type": "markdown",
      "source": [
        "## Building Dataset\n"
      ],
      "metadata": {
        "id": "fJGQ6rzvIxOX"
      },
      "id": "fJGQ6rzvIxOX"
    },
    {
      "cell_type": "code",
      "execution_count": 2,
      "id": "a36e13d8-da7d-4bab-a3dd-f10d2e29ec75",
      "metadata": {
        "id": "a36e13d8-da7d-4bab-a3dd-f10d2e29ec75"
      },
      "outputs": [],
      "source": [
        "data = open('pride_and_prejudice.txt', 'r', encoding='utf-8-sig').read() # Reading the .txt file"
      ]
    },
    {
      "cell_type": "code",
      "execution_count": 3,
      "id": "c2551582-9746-4cb1-b672-f9d71a030cd1",
      "metadata": {
        "id": "c2551582-9746-4cb1-b672-f9d71a030cd1"
      },
      "outputs": [],
      "source": [
        "text = re.sub('\\n+', '\\n', data) # Removes multiple consecutive newline characters and replaces them with a single newline character\n",
        "text = re.sub('\\s+', ' ', text) # Removes multiple consecutive whitespace characters and replaces them with a single space character\n",
        "sentences_list = re.split(r'(?<!\\w\\.\\w.)(?<![A-Z][a-z]\\.)(?<=\\.|\\?)\\s', text) # Splits the text into a list of sentences based on specific punctuation marks"
      ]
    },
    {
      "cell_type": "code",
      "execution_count": 4,
      "id": "246d7ae6-6809-4d8c-a847-5655b706ad05",
      "metadata": {
        "colab": {
          "base_uri": "https://localhost:8080/"
        },
        "id": "246d7ae6-6809-4d8c-a847-5655b706ad05",
        "outputId": "97386a52-3521-4848-a02d-ce3a80564e72"
      },
      "outputs": [
        {
          "output_type": "stream",
          "name": "stdout",
          "text": [
            "This ebook is for the use of anyone anywhere in the United States and most other parts of the world at no cost and with almost no restrictions whatsoever.\n"
          ]
        }
      ],
      "source": [
        "print(sentences_list[0])"
      ]
    },
    {
      "cell_type": "code",
      "source": [
        "# Run this cell only once and then comment it\n",
        "import nltk\n",
        "nltk.download('punkt')"
      ],
      "metadata": {
        "colab": {
          "base_uri": "https://localhost:8080/"
        },
        "id": "eq3vGgaoKMoR",
        "outputId": "1b72392b-1c32-4e5d-cd86-9afa53714388"
      },
      "id": "eq3vGgaoKMoR",
      "execution_count": 5,
      "outputs": [
        {
          "output_type": "stream",
          "name": "stderr",
          "text": [
            "[nltk_data] Downloading package punkt to /root/nltk_data...\n",
            "[nltk_data]   Package punkt is already up-to-date!\n"
          ]
        },
        {
          "output_type": "execute_result",
          "data": {
            "text/plain": [
              "True"
            ]
          },
          "metadata": {},
          "execution_count": 5
        }
      ]
    },
    {
      "cell_type": "code",
      "execution_count": 6,
      "id": "606a5592-c537-419e-8f84-7ccb8592e2e2",
      "metadata": {
        "id": "606a5592-c537-419e-8f84-7ccb8592e2e2"
      },
      "outputs": [],
      "source": [
        "sentences = [word_tokenize(sentence) for sentence in sentences_list] # Tokenize each sentence in the 'sentences_list' list and create a list of tokenized sentences"
      ]
    },
    {
      "cell_type": "code",
      "execution_count": 7,
      "id": "2a4d9050-a505-40cf-aa3d-5ef880e521db",
      "metadata": {
        "colab": {
          "base_uri": "https://localhost:8080/"
        },
        "id": "2a4d9050-a505-40cf-aa3d-5ef880e521db",
        "outputId": "ec9c8a0a-ca73-467d-cf3c-945b84e8081e"
      },
      "outputs": [
        {
          "output_type": "stream",
          "name": "stdout",
          "text": [
            "['This', 'ebook', 'is', 'for', 'the', 'use', 'of', 'anyone', 'anywhere', 'in', 'the', 'United', 'States', 'and', 'most', 'other', 'parts', 'of', 'the', 'world', 'at', 'no', 'cost', 'and', 'with', 'almost', 'no', 'restrictions', 'whatsoever', '.']\n"
          ]
        }
      ],
      "source": [
        "print(sentences[0])"
      ]
    },
    {
      "cell_type": "code",
      "execution_count": 8,
      "id": "4e235d3d-2987-4036-b512-cc8070b648f8",
      "metadata": {
        "colab": {
          "base_uri": "https://localhost:8080/"
        },
        "id": "4e235d3d-2987-4036-b512-cc8070b648f8",
        "outputId": "bc7400e7-09d2-445e-9030-9514266a139e"
      },
      "outputs": [
        {
          "output_type": "execute_result",
          "data": {
            "text/plain": [
              "8577"
            ]
          },
          "metadata": {},
          "execution_count": 8
        }
      ],
      "source": [
        "total_words = [word for sentence in sentences for word in sentence ]# Creating list of all the words present in data\n",
        "words = list(set(total_words)) # Remove duplicate words by creating a set and then converting it back to a list\n",
        "words = words + ['<S>'] +['<E>'] # Adding special tokens\n",
        "vocab_size = len(words)\n",
        "vocab_size"
      ]
    },
    {
      "cell_type": "code",
      "execution_count": 9,
      "id": "5f01896d-3bea-4f1a-9003-b0970bb8f0ae",
      "metadata": {
        "id": "5f01896d-3bea-4f1a-9003-b0970bb8f0ae"
      },
      "outputs": [],
      "source": [
        "# Mapping from word to integers and vice-versa\n",
        "wtoi = {s:i for i,s in enumerate(words)}\n",
        "itow = {i:s for s,i in wtoi.items()}"
      ]
    },
    {
      "cell_type": "code",
      "execution_count": 10,
      "id": "14a2afa4-2e7d-4ca9-a3aa-ac718ca9f43c",
      "metadata": {
        "colab": {
          "base_uri": "https://localhost:8080/"
        },
        "id": "14a2afa4-2e7d-4ca9-a3aa-ac718ca9f43c",
        "outputId": "e359b2ca-261f-4b36-f205-c9cb4058b956"
      },
      "outputs": [
        {
          "output_type": "stream",
          "name": "stdout",
          "text": [
            "Train data shape : X.shape = torch.Size([159686]), Y.shape = torch.Size([159686])\n"
          ]
        }
      ],
      "source": [
        "# Creating the train, test and val dataset\n",
        "def build_dataset(sentences):\n",
        "    X, Y = [], []\n",
        "    i = 0\n",
        "    for sentence in sentences:\n",
        "        sentence = ['<S>'] + sentence + ['<E>']\n",
        "        for word1, word2 in zip(sentence, sentence[1:]):\n",
        "            X.append(wtoi[word1])\n",
        "            Y.append(wtoi[word2])\n",
        "    X = torch.tensor(X)\n",
        "    Y = torch.tensor(Y)\n",
        "    return X, Y\n",
        "\n",
        "X, Y = build_dataset(sentences)\n",
        "\n",
        "print(f'Train data shape : X.shape = {X.shape}, Y.shape = {Y.shape}')"
      ]
    },
    {
      "cell_type": "markdown",
      "source": [
        "# **MODEL**"
      ],
      "metadata": {
        "id": "qq1qEhYkIZ_b"
      },
      "id": "qq1qEhYkIZ_b"
    },
    {
      "cell_type": "code",
      "execution_count": 11,
      "id": "50ec2f1e-f32c-4479-b09d-d6137e050f5f",
      "metadata": {
        "id": "50ec2f1e-f32c-4479-b09d-d6137e050f5f",
        "colab": {
          "base_uri": "https://localhost:8080/"
        },
        "outputId": "36d6075d-ec3a-4d32-c05f-cabf52c3a953"
      },
      "outputs": [
        {
          "output_type": "stream",
          "name": "stdout",
          "text": [
            "Total parameters in the model: 73564929\n"
          ]
        }
      ],
      "source": [
        "# Creating the model\n",
        "class BiGramLanguageModel(nn.Module):\n",
        "\n",
        "    def __init__(self):\n",
        "        super().__init__()\n",
        "        self.W = nn.Linear(vocab_size, vocab_size, bias=False)\n",
        "\n",
        "    def forward(self, x):\n",
        "        x = F.one_hot(x, num_classes=vocab_size).float()\n",
        "        out = self.W(x)\n",
        "        return out\n",
        "\n",
        "model = BiGramLanguageModel()\n",
        "total_params = sum(p.numel() for p in model.parameters() if p.requires_grad)\n",
        "print(f'Total parameters in the model: {total_params}')"
      ]
    },
    {
      "cell_type": "code",
      "source": [
        "# Creating the model\n",
        "class BiGramLanguageModel_(nn.Module):\n",
        "\n",
        "    def __init__(self):\n",
        "        super().__init__()\n",
        "        self.C = nn.Embedding(vocab_size, vocab_size)\n",
        "\n",
        "    def forward(self, x):\n",
        "        out = self.C(x)\n",
        "        return out\n",
        "\n",
        "model_ = BiGramLanguageModel_()\n",
        "total_params = sum(p.numel() for p in model_.parameters() if p.requires_grad)\n",
        "print(f'Total parameters in the model_: {total_params}')"
      ],
      "metadata": {
        "colab": {
          "base_uri": "https://localhost:8080/"
        },
        "id": "wgiFS_Yh0_Cr",
        "outputId": "f46af78e-5304-49a4-9a71-8f5c155501c2"
      },
      "id": "wgiFS_Yh0_Cr",
      "execution_count": 12,
      "outputs": [
        {
          "output_type": "stream",
          "name": "stdout",
          "text": [
            "Total parameters in the model_: 73564929\n"
          ]
        }
      ]
    },
    {
      "cell_type": "code",
      "execution_count": 13,
      "id": "473308b0-bc4f-4a38-8c6b-985db512b8c2",
      "metadata": {
        "id": "473308b0-bc4f-4a38-8c6b-985db512b8c2"
      },
      "outputs": [],
      "source": [
        "# Seeting up optimizer and loss\n",
        "optimizer = torch.optim.SGD(model.parameters(), lr=50)\n",
        "criterion = nn.CrossEntropyLoss()"
      ]
    },
    {
      "cell_type": "code",
      "source": [
        "# Move model and data to GPU if available, otherwise use CPU\n",
        "device = torch.device(\"cuda\" if torch.cuda.is_available() else \"cpu\")\n",
        "model = model.to(device)\n",
        "X, Y = X.to(device), Y.to(device)"
      ],
      "metadata": {
        "id": "JX6DQP23NrQV"
      },
      "id": "JX6DQP23NrQV",
      "execution_count": 14,
      "outputs": []
    },
    {
      "cell_type": "markdown",
      "source": [
        "## Training"
      ],
      "metadata": {
        "id": "6UgvH36LImqf"
      },
      "id": "6UgvH36LImqf"
    },
    {
      "cell_type": "code",
      "execution_count": 15,
      "id": "c3bd749e-00eb-41e7-9928-c59296ef6fc1",
      "metadata": {
        "colab": {
          "base_uri": "https://localhost:8080/"
        },
        "id": "c3bd749e-00eb-41e7-9928-c59296ef6fc1",
        "outputId": "94d398cd-277a-4b1a-e467-4bdfc7736112"
      },
      "outputs": [
        {
          "output_type": "stream",
          "name": "stdout",
          "text": [
            " 1/200 : Average Loss: 7.6254\n",
            " 2/200 : Average Loss: 6.8023\n",
            " 3/200 : Average Loss: 6.4384\n",
            " 4/200 : Average Loss: 6.1903\n",
            " 5/200 : Average Loss: 6.0003\n",
            " 6/200 : Average Loss: 5.8453\n",
            " 7/200 : Average Loss: 5.7140\n",
            " 8/200 : Average Loss: 5.6012\n",
            " 9/200 : Average Loss: 5.5006\n",
            "10/200 : Average Loss: 5.4107\n",
            "11/200 : Average Loss: 5.3299\n",
            "12/200 : Average Loss: 5.2556\n",
            "13/200 : Average Loss: 5.1869\n",
            "14/200 : Average Loss: 5.1233\n",
            "15/200 : Average Loss: 5.0639\n",
            "16/200 : Average Loss: 5.0082\n",
            "17/200 : Average Loss: 4.9556\n",
            "18/200 : Average Loss: 4.9060\n",
            "19/200 : Average Loss: 4.8589\n",
            "20/200 : Average Loss: 4.8141\n",
            "21/200 : Average Loss: 4.7715\n",
            "22/200 : Average Loss: 4.7309\n",
            "23/200 : Average Loss: 4.6917\n",
            "24/200 : Average Loss: 4.6546\n",
            "25/200 : Average Loss: 4.6188\n",
            "26/200 : Average Loss: 4.5847\n",
            "27/200 : Average Loss: 4.5516\n",
            "28/200 : Average Loss: 4.5196\n",
            "29/200 : Average Loss: 4.4890\n",
            "30/200 : Average Loss: 4.4594\n",
            "31/200 : Average Loss: 4.4309\n",
            "32/200 : Average Loss: 4.4032\n",
            "33/200 : Average Loss: 4.3764\n",
            "34/200 : Average Loss: 4.3504\n",
            "35/200 : Average Loss: 4.3253\n",
            "36/200 : Average Loss: 4.3014\n",
            "37/200 : Average Loss: 4.2778\n",
            "38/200 : Average Loss: 4.2547\n",
            "39/200 : Average Loss: 4.2331\n",
            "40/200 : Average Loss: 4.2111\n",
            "41/200 : Average Loss: 4.1906\n",
            "42/200 : Average Loss: 4.1704\n",
            "43/200 : Average Loss: 4.1512\n",
            "44/200 : Average Loss: 4.1320\n",
            "45/200 : Average Loss: 4.1135\n",
            "46/200 : Average Loss: 4.0951\n",
            "47/200 : Average Loss: 4.0779\n",
            "48/200 : Average Loss: 4.0606\n",
            "49/200 : Average Loss: 4.0441\n",
            "50/200 : Average Loss: 4.0279\n",
            "51/200 : Average Loss: 4.0117\n",
            "52/200 : Average Loss: 3.9967\n",
            "53/200 : Average Loss: 3.9816\n",
            "54/200 : Average Loss: 3.9671\n",
            "55/200 : Average Loss: 3.9526\n",
            "56/200 : Average Loss: 3.9388\n",
            "57/200 : Average Loss: 3.9252\n",
            "58/200 : Average Loss: 3.9119\n",
            "59/200 : Average Loss: 3.8994\n",
            "60/200 : Average Loss: 3.8868\n",
            "61/200 : Average Loss: 3.8745\n",
            "62/200 : Average Loss: 3.8624\n",
            "63/200 : Average Loss: 3.8510\n",
            "64/200 : Average Loss: 3.8399\n",
            "65/200 : Average Loss: 3.8290\n",
            "66/200 : Average Loss: 3.8182\n",
            "67/200 : Average Loss: 3.8082\n",
            "68/200 : Average Loss: 3.7983\n",
            "69/200 : Average Loss: 3.7888\n",
            "70/200 : Average Loss: 3.7795\n",
            "71/200 : Average Loss: 3.7706\n",
            "72/200 : Average Loss: 3.7619\n",
            "73/200 : Average Loss: 3.7535\n",
            "74/200 : Average Loss: 3.7457\n",
            "75/200 : Average Loss: 3.7377\n",
            "76/200 : Average Loss: 3.7300\n",
            "77/200 : Average Loss: 3.7230\n",
            "78/200 : Average Loss: 3.7158\n",
            "79/200 : Average Loss: 3.7094\n",
            "80/200 : Average Loss: 3.7029\n",
            "81/200 : Average Loss: 3.6966\n",
            "82/200 : Average Loss: 3.6904\n",
            "83/200 : Average Loss: 3.6848\n",
            "84/200 : Average Loss: 3.6794\n",
            "85/200 : Average Loss: 3.6742\n",
            "86/200 : Average Loss: 3.6690\n",
            "87/200 : Average Loss: 3.6643\n",
            "88/200 : Average Loss: 3.6595\n",
            "89/200 : Average Loss: 3.6553\n",
            "90/200 : Average Loss: 3.6508\n",
            "91/200 : Average Loss: 3.6466\n",
            "92/200 : Average Loss: 3.6428\n",
            "93/200 : Average Loss: 3.6393\n",
            "94/200 : Average Loss: 3.6355\n",
            "95/200 : Average Loss: 3.6318\n",
            "96/200 : Average Loss: 3.6287\n",
            "97/200 : Average Loss: 3.6254\n",
            "98/200 : Average Loss: 3.6227\n",
            "99/200 : Average Loss: 3.6196\n",
            "100/200 : Average Loss: 3.6171\n",
            "101/200 : Average Loss: 3.5986\n",
            "102/200 : Average Loss: 3.5968\n",
            "103/200 : Average Loss: 3.5955\n",
            "104/200 : Average Loss: 3.5943\n",
            "105/200 : Average Loss: 3.5930\n",
            "106/200 : Average Loss: 3.5919\n",
            "107/200 : Average Loss: 3.5907\n",
            "108/200 : Average Loss: 3.5895\n",
            "109/200 : Average Loss: 3.5886\n",
            "110/200 : Average Loss: 3.5873\n",
            "111/200 : Average Loss: 3.5861\n",
            "112/200 : Average Loss: 3.5852\n",
            "113/200 : Average Loss: 3.5842\n",
            "114/200 : Average Loss: 3.5832\n",
            "115/200 : Average Loss: 3.5823\n",
            "116/200 : Average Loss: 3.5813\n",
            "117/200 : Average Loss: 3.5803\n",
            "118/200 : Average Loss: 3.5794\n",
            "119/200 : Average Loss: 3.5785\n",
            "120/200 : Average Loss: 3.5775\n",
            "121/200 : Average Loss: 3.5767\n",
            "122/200 : Average Loss: 3.5758\n",
            "123/200 : Average Loss: 3.5751\n",
            "124/200 : Average Loss: 3.5742\n",
            "125/200 : Average Loss: 3.5733\n",
            "126/200 : Average Loss: 3.5726\n",
            "127/200 : Average Loss: 3.5718\n",
            "128/200 : Average Loss: 3.5710\n",
            "129/200 : Average Loss: 3.5702\n",
            "130/200 : Average Loss: 3.5695\n",
            "131/200 : Average Loss: 3.5688\n",
            "132/200 : Average Loss: 3.5680\n",
            "133/200 : Average Loss: 3.5674\n",
            "134/200 : Average Loss: 3.5667\n",
            "135/200 : Average Loss: 3.5660\n",
            "136/200 : Average Loss: 3.5653\n",
            "137/200 : Average Loss: 3.5647\n",
            "138/200 : Average Loss: 3.5641\n",
            "139/200 : Average Loss: 3.5632\n",
            "140/200 : Average Loss: 3.5629\n",
            "141/200 : Average Loss: 3.5620\n",
            "142/200 : Average Loss: 3.5615\n",
            "143/200 : Average Loss: 3.5609\n",
            "144/200 : Average Loss: 3.5605\n",
            "145/200 : Average Loss: 3.5598\n",
            "146/200 : Average Loss: 3.5592\n",
            "147/200 : Average Loss: 3.5586\n",
            "148/200 : Average Loss: 3.5582\n",
            "149/200 : Average Loss: 3.5576\n",
            "150/200 : Average Loss: 3.5571\n",
            "151/200 : Average Loss: 3.5566\n",
            "152/200 : Average Loss: 3.5560\n",
            "153/200 : Average Loss: 3.5556\n",
            "154/200 : Average Loss: 3.5551\n",
            "155/200 : Average Loss: 3.5545\n",
            "156/200 : Average Loss: 3.5540\n",
            "157/200 : Average Loss: 3.5537\n",
            "158/200 : Average Loss: 3.5529\n",
            "159/200 : Average Loss: 3.5526\n",
            "160/200 : Average Loss: 3.5521\n",
            "161/200 : Average Loss: 3.5517\n",
            "162/200 : Average Loss: 3.5513\n",
            "163/200 : Average Loss: 3.5508\n",
            "164/200 : Average Loss: 3.5504\n",
            "165/200 : Average Loss: 3.5501\n",
            "166/200 : Average Loss: 3.5494\n",
            "167/200 : Average Loss: 3.5491\n",
            "168/200 : Average Loss: 3.5489\n",
            "169/200 : Average Loss: 3.5483\n",
            "170/200 : Average Loss: 3.5479\n",
            "171/200 : Average Loss: 3.5476\n",
            "172/200 : Average Loss: 3.5473\n",
            "173/200 : Average Loss: 3.5468\n",
            "174/200 : Average Loss: 3.5464\n",
            "175/200 : Average Loss: 3.5462\n",
            "176/200 : Average Loss: 3.5455\n",
            "177/200 : Average Loss: 3.5454\n",
            "178/200 : Average Loss: 3.5450\n",
            "179/200 : Average Loss: 3.5447\n",
            "180/200 : Average Loss: 3.5441\n",
            "181/200 : Average Loss: 3.5440\n",
            "182/200 : Average Loss: 3.5437\n",
            "183/200 : Average Loss: 3.5433\n",
            "184/200 : Average Loss: 3.5431\n",
            "185/200 : Average Loss: 3.5426\n",
            "186/200 : Average Loss: 3.5423\n",
            "187/200 : Average Loss: 3.5419\n",
            "188/200 : Average Loss: 3.5417\n",
            "189/200 : Average Loss: 3.5413\n",
            "190/200 : Average Loss: 3.5411\n",
            "191/200 : Average Loss: 3.5409\n",
            "192/200 : Average Loss: 3.5405\n",
            "193/200 : Average Loss: 3.5402\n",
            "194/200 : Average Loss: 3.5399\n",
            "195/200 : Average Loss: 3.5396\n",
            "196/200 : Average Loss: 3.5393\n",
            "197/200 : Average Loss: 3.5391\n",
            "198/200 : Average Loss: 3.5389\n",
            "199/200 : Average Loss: 3.5386\n",
            "200/200 : Average Loss: 3.5382\n"
          ]
        }
      ],
      "source": [
        "# Training loop\n",
        "batch_size = 512\n",
        "lossi = []\n",
        "n_epochs = 200\n",
        "\n",
        "for epoch in range(n_epochs):\n",
        "    indices = list(range(len(X)))\n",
        "    random.shuffle(indices)\n",
        "    epoch_loss = 0.0\n",
        "\n",
        "    for start in range(0, len(X), batch_size):\n",
        "        end = start + batch_size\n",
        "        batch_indices = indices[start:end]\n",
        "\n",
        "        batch_X = X[batch_indices]\n",
        "        batch_Y = Y[batch_indices]\n",
        "\n",
        "        logits = model(batch_X)\n",
        "        loss = criterion(logits, batch_Y)\n",
        "\n",
        "        optimizer.zero_grad()\n",
        "        loss.backward()\n",
        "        optimizer.step()\n",
        "\n",
        "        lr = 50 if epoch < 100 else 25\n",
        "        # Update the learning rate in the optimizer\n",
        "        for param_group in optimizer.param_groups:\n",
        "          param_group['lr'] = lr\n",
        "\n",
        "        epoch_loss += loss.item()  # Accumulate the batch loss\n",
        "    average_loss = epoch_loss / (len(X) / batch_size)\n",
        "    lossi.append(average_loss)\n",
        "\n",
        "    print(f'{epoch + 1:2d}/{n_epochs:2d} : Average Loss: {average_loss:.4f}')"
      ]
    },
    {
      "cell_type": "code",
      "execution_count": 16,
      "id": "1979ba2a-2ab4-40b3-bd1e-82c2464e9d12",
      "metadata": {
        "colab": {
          "base_uri": "https://localhost:8080/",
          "height": 447
        },
        "id": "1979ba2a-2ab4-40b3-bd1e-82c2464e9d12",
        "outputId": "e4e9e4d7-43b0-4511-debd-82af9258f9b5"
      },
      "outputs": [
        {
          "output_type": "execute_result",
          "data": {
            "text/plain": [
              "[<matplotlib.lines.Line2D at 0x7dcd2d229a80>]"
            ]
          },
          "metadata": {},
          "execution_count": 16
        },
        {
          "output_type": "display_data",
          "data": {
            "text/plain": [
              "<Figure size 640x480 with 1 Axes>"
            ],
            "image/png": "[encoded data removed]"
          },
          "metadata": {}
        }
      ],
      "source": [
        "plt.plot(lossi)"
      ]
    },
    {
      "cell_type": "markdown",
      "source": [
        "## Sampling"
      ],
      "metadata": {
        "id": "TI_dpbBiIrEB"
      },
      "id": "TI_dpbBiIrEB"
    },
    {
      "cell_type": "code",
      "execution_count": 17,
      "id": "da620cb7-d188-49e1-b968-bef17ec6e826",
      "metadata": {
        "colab": {
          "base_uri": "https://localhost:8080/"
        },
        "id": "da620cb7-d188-49e1-b968-bef17ec6e826",
        "outputId": "d9c803a9-b137-4a01-e954-cffb61bf7e3f"
      },
      "outputs": [
        {
          "output_type": "stream",
          "name": "stdout",
          "text": [
            "We never forget , but I had always long as well when they went to meet us , she added , therefore , as will go yourself. ” “ A thousand pounds. ” He was shortly give mountains ? ’ s astonishment at the whole to be good journey was a melancholy scene to observe roasted Monday endurable to marry her little wilderness on good luck , or anything I solicit accounts nerves . <E>\n",
            "But mere trifle with an uniform cheerfulness began to heighten her intended to think it might change _them_ he began the dining-room they had given by ill of Jane , whither he , “ I might say against him at home -- where your hope your ministers and such sweet girl , since I always so , as to me hear how _Mrs . <E>\n",
            "He has neither integrity or four o ’ s performance on her master and frequently were all ; and then withdrew to know who , without bribery splendour , though expressed pollution which gave them to discourage him. ” And is grown up , is fortune and Mr. Gardiner . <E>\n",
            "“ My dear ? <E>\n",
            "When they were summoned to me so small a great deal to her with pleasure in a belief that her thoughts were not . <E>\n"
          ]
        }
      ],
      "source": [
        "# Sampling from the model\n",
        "g = torch.Generator(device=device).manual_seed(2147483647)\n",
        "\n",
        "for i in range(5):\n",
        "    out = []\n",
        "    ix = wtoi['<S>']\n",
        "    while True:\n",
        "        ix = torch.tensor(ix)\n",
        "        ix = ix.to(device)\n",
        "        logits = model(ix)\n",
        "        p = F.softmax(logits, dim=0)\n",
        "\n",
        "        ix = torch.multinomial(p, num_samples=1, replacement=True, generator=g).item()\n",
        "        out.append(itow[ix])\n",
        "\n",
        "        if ix==wtoi['<E>']:\n",
        "            break\n",
        "    print(' '.join(out))\n"
      ]
    },
    {
      "cell_type": "code",
      "source": [],
      "metadata": {
        "id": "1KWwYFWsPnTC"
      },
      "id": "1KWwYFWsPnTC",
      "execution_count": null,
      "outputs": []
    }
  ],
  "metadata": {
    "kernelspec": {
      "display_name": "Python 3",
      "name": "python3"
    },
    "language_info": {
      "codemirror_mode": {
        "name": "ipython",
        "version": 3
      },
      "file_extension": ".py",
      "mimetype": "text/x-python",
      "name": "python",
      "nbconvert_exporter": "python",
      "pygments_lexer": "ipython3",
      "version": "3.11.5"
    },
    "colab": {
      "provenance": [],
      "gpuType": "T4"
    },
    "accelerator": "GPU"
  },
  "nbformat": 4,
  "nbformat_minor": 5
}